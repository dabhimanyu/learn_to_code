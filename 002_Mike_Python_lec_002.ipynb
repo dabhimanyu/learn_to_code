{
  "nbformat": 4,
  "nbformat_minor": 0,
  "metadata": {
    "colab": {
      "name": "002_Mike_Python_lec_002.ipynb",
      "provenance": [],
      "collapsed_sections": [],
      "authorship_tag": "ABX9TyMpd5PFC955Zr0Nu8MJNTz0",
      "include_colab_link": true
    },
    "kernelspec": {
      "name": "python3",
      "display_name": "Python 3"
    },
    "language_info": {
      "name": "python"
    }
  },
  "cells": [
    {
      "cell_type": "markdown",
      "metadata": {
        "id": "view-in-github",
        "colab_type": "text"
      },
      "source": [
        "<a href=\"https://colab.research.google.com/github/dabhimanyu/learn_to_code/blob/python_codes/002_Mike_Python_lec_002.ipynb\" target=\"_parent\"><img src=\"https://colab.research.google.com/assets/colab-badge.svg\" alt=\"Open In Colab\"/></a>"
      ]
    },
    {
      "cell_type": "markdown",
      "source": [
        "###Flow Control STatments in Python:"
      ],
      "metadata": {
        "id": "WMQp8TgbKiP_"
      }
    },
    {
      "cell_type": "code",
      "execution_count": null,
      "metadata": {
        "id": "xybFIrTQKC51",
        "colab": {
          "base_uri": "https://localhost:8080/"
        },
        "outputId": "2f2fad55-191c-417d-ee2e-bdd68e537e54"
      },
      "outputs": [
        {
          "output_type": "stream",
          "name": "stdout",
          "text": [
            "Variable   Type      Data/Info\n",
            "------------------------------\n",
            "np         module    <module 'numpy' from '/us<...>kages/numpy/__init__.py'>\n"
          ]
        }
      ],
      "source": [
        "# if-else\n",
        "\n",
        "%reset -f\n",
        "import numpy as np\n",
        "%whos"
      ]
    },
    {
      "cell_type": "code",
      "source": [
        "isinstance??\n",
        "pj = np.arange(1 , 6)\n",
        "tj = np.arange(6 , 1 , -1)\n",
        "print(type(pj))\n",
        "print('pj = ' + str(pj))\n",
        "print('tj = ' + str(tj))\n",
        "# pj = np.alist(np.arange(10))\n",
        "isinstance(pj , np.ndarray)\n",
        "print('Size of pj = ' + str(np.size(pj)) )\n",
        "print('Product of Pj and Tj = ' + str(pj*tj) )"
      ],
      "metadata": {
        "colab": {
          "base_uri": "https://localhost:8080/"
        },
        "id": "uFgZf8hJOHd2",
        "outputId": "cae2fbcf-601e-4b7e-bfc5-12271e8f3f05"
      },
      "execution_count": null,
      "outputs": [
        {
          "output_type": "stream",
          "name": "stdout",
          "text": [
            "<class 'numpy.ndarray'>\n",
            "pj = [1 2 3 4 5]\n",
            "tj = [6 5 4 3 2]\n",
            "Size of pj = 5\n",
            "Product of Pj and Tj = [ 6 10 12 12 10]\n"
          ]
        }
      ]
    },
    {
      "cell_type": "code",
      "source": [
        "# Create a function to compute dot product:\n",
        "# 1. check if both inputs are numpy arrays ( Hint: isinstance() )\n",
        "# 2. Check if both arrays have same length\n",
        "# 3. Return a meaningful error message\n",
        "# 4. Compute dot product if things are in order:\n",
        "\n",
        "def myDotProduct(arr1 , arr2):\n",
        "  if not ( isinstance(arr1 , np.ndarray) and isinstance(arr2 , np.ndarray) ):\n",
        "    raise Exception('Both Input variables needs to be numpy array')\n",
        "\n",
        "  if not ( np.size(arr1) == np.size(arr2) ):\n",
        "    raise Exception('Both Vectors should have same length')\n",
        "\n",
        "  return( np.sum( arr1 * arr2) )\n",
        "\n",
        "%whos"
      ],
      "metadata": {
        "colab": {
          "base_uri": "https://localhost:8080/"
        },
        "id": "lm0QaU7sNP3U",
        "outputId": "d8bed39b-5f83-4c81-918c-9cce567555fb"
      },
      "execution_count": null,
      "outputs": [
        {
          "output_type": "stream",
          "name": "stdout",
          "text": [
            "Variable       Type        Data/Info\n",
            "------------------------------------\n",
            "myDotProduct   function    <function myDotProduct at 0x7f0c94a62320>\n",
            "np             module      <module 'numpy' from '/us<...>kages/numpy/__init__.py'>\n",
            "pj             ndarray     5: 5 elems, type `int64`, 40 bytes\n",
            "tj             ndarray     5: 5 elems, type `int64`, 40 bytes\n"
          ]
        }
      ]
    },
    {
      "cell_type": "code",
      "source": [
        "myDotProduct(tj , pj)"
      ],
      "metadata": {
        "colab": {
          "base_uri": "https://localhost:8080/"
        },
        "id": "qib_l1JNVfOz",
        "outputId": "5cdf0cf6-b070-4645-da47-5afb45a0d629"
      },
      "execution_count": null,
      "outputs": [
        {
          "output_type": "execute_result",
          "data": {
            "text/plain": [
              "50"
            ]
          },
          "metadata": {},
          "execution_count": 46
        }
      ]
    },
    {
      "cell_type": "markdown",
      "source": [
        "### For Loop"
      ],
      "metadata": {
        "id": "bekYode0ZiQf"
      }
    },
    {
      "cell_type": "code",
      "source": [
        "for i in range(1,6):\n",
        "  print('Value Of i = ' + str(i))"
      ],
      "metadata": {
        "colab": {
          "base_uri": "https://localhost:8080/"
        },
        "id": "2VlfuDZtZlVd",
        "outputId": "a1261ea9-d6be-4825-a635-bac42e6deb46"
      },
      "execution_count": null,
      "outputs": [
        {
          "output_type": "stream",
          "name": "stdout",
          "text": [
            "Value Of i = 1\n",
            "Value Of i = 2\n",
            "Value Of i = 3\n",
            "Value Of i = 4\n",
            "Value Of i = 5\n"
          ]
        }
      ]
    },
    {
      "cell_type": "code",
      "source": [
        "# Make a poisson like counter using loops:\n",
        "\n",
        "# Parameter Lambda = 10\n",
        "# Start at 1, multiply by random number uniform( [0 , 1] )\n",
        "# Stop when target is less than exp(-lambda)\n",
        "# count the number of iterations used to reach the target: exp(-lambda)\n",
        "\n",
        "%reset -f\n",
        "import numpy as np\n",
        "np.random.uniform(0 , 1)\n",
        "np.exp(-10)"
      ],
      "metadata": {
        "colab": {
          "base_uri": "https://localhost:8080/"
        },
        "id": "wBcSDjOiZXK1",
        "outputId": "c79c8a50-dc65-44c9-f076-33835b4cd35e"
      },
      "execution_count": 9,
      "outputs": [
        {
          "output_type": "execute_result",
          "data": {
            "text/plain": [
              "4.5399929762484854e-05"
            ]
          },
          "metadata": {},
          "execution_count": 9
        }
      ]
    },
    {
      "cell_type": "markdown",
      "source": [
        "###While Loop"
      ],
      "metadata": {
        "id": "KCmfg8I2fIKi"
      }
    },
    {
      "cell_type": "code",
      "source": [
        "toggle  =   True\n",
        "target  =   1 ; \n",
        "count   =   0 ; \n",
        "\n",
        "# First way:\n",
        "while toggle:\n",
        "  target *=  target * np.random.uniform(0 , 1)\n",
        "  count += 1 ; \n",
        "  print(str(count) + '. Target = ' + str(target)) ; \n",
        "  if target < np.exp(-10):\n",
        "    break ; \n",
        "\n",
        "print('Counter = ' + str(count)) ; \n",
        "\n",
        "# Second way:\n",
        "toggle  =   True\n",
        "target  =   1 ; \n",
        "count   =   0 ; \n",
        "\n",
        "while toggle:\n",
        "  target *=  target * np.random.uniform(0 , 1)\n",
        "  count += 1 ; \n",
        "  print(str(count) + '. Target = ' + str(target)) ; \n",
        "  if target < np.exp(-10):\n",
        "    toggle = False ; \n",
        "\n",
        "print('Counter = ' + str(count)) ; "
      ],
      "metadata": {
        "colab": {
          "base_uri": "https://localhost:8080/"
        },
        "id": "WhAJTmtMa2Cu",
        "outputId": "ea9c6819-dbfc-4d74-8a93-26a786ca8dd6"
      },
      "execution_count": 21,
      "outputs": [
        {
          "output_type": "stream",
          "name": "stdout",
          "text": [
            "1. Target = 0.5765622561920287\n",
            "2. Target = 0.2907575413319824\n",
            "3. Target = 0.07476333136863557\n",
            "4. Target = 0.0035358067796203278\n",
            "5. Target = 4.691026136096293e-06\n",
            "Counter = 5\n",
            "1. Target = 0.9935952024771663\n",
            "2. Target = 0.26012606217454526\n",
            "3. Target = 0.0019958968674058863\n",
            "4. Target = 9.346130381963803e-07\n",
            "Counter = 4\n"
          ]
        }
      ]
    },
    {
      "cell_type": "markdown",
      "source": [
        "###One line version of Loops and If-Else Statments:"
      ],
      "metadata": {
        "id": "2G489UN16Mc5"
      }
    },
    {
      "cell_type": "code",
      "source": [
        "# LIST Comphrension \n",
        "\n",
        "n = [i**2 - 2*i**0.5 for i in range(10) ]\n",
        "n"
      ],
      "metadata": {
        "colab": {
          "base_uri": "https://localhost:8080/"
        },
        "id": "s9hc-X-j0fEV",
        "outputId": "d90b178d-a74e-4c27-b88e-6a6824b0e643"
      },
      "execution_count": 24,
      "outputs": [
        {
          "output_type": "execute_result",
          "data": {
            "text/plain": [
              "[0.0,\n",
              " -1.0,\n",
              " 1.1715728752538097,\n",
              " 5.535898384862246,\n",
              " 12.0,\n",
              " 20.52786404500042,\n",
              " 31.101020514433642,\n",
              " 43.70849737787082,\n",
              " 58.34314575050762,\n",
              " 75.0]"
            ]
          },
          "metadata": {},
          "execution_count": 24
        }
      ]
    },
    {
      "cell_type": "code",
      "source": [
        "# Short way of doing things:\n",
        "# Notice the difference b/t the two:\n",
        "\n",
        "n = [i**2 - 2*i**0.5 for i in range(10) if i > 4]\n",
        "n"
      ],
      "metadata": {
        "colab": {
          "base_uri": "https://localhost:8080/"
        },
        "id": "jKInNDiu00su",
        "outputId": "170b0397-bee3-4aae-ed54-0ebe18020fab"
      },
      "execution_count": 27,
      "outputs": [
        {
          "output_type": "execute_result",
          "data": {
            "text/plain": [
              "[20.52786404500042,\n",
              " 31.101020514433642,\n",
              " 43.70849737787082,\n",
              " 58.34314575050762,\n",
              " 75.0]"
            ]
          },
          "metadata": {},
          "execution_count": 27
        }
      ]
    },
    {
      "cell_type": "code",
      "source": [
        "# Exercise:\n",
        "i = 0\n",
        "text = ['Abhimanyu' , 'has' , 'trouble' , 'in' , 'deciding' , 'left' , 'or' , 'right' , 'while' , 'driving' ] ; \n",
        "\n",
        "print(len(text))\n",
        "\n",
        "[print(text[i]) for i in range(len(text))] ; "
      ],
      "metadata": {
        "colab": {
          "base_uri": "https://localhost:8080/"
        },
        "id": "JWvIRUk91Zxl",
        "outputId": "270c2a19-c380-448e-d91b-8caea406e3c5"
      },
      "execution_count": 38,
      "outputs": [
        {
          "output_type": "stream",
          "name": "stdout",
          "text": [
            "10\n",
            "Abhimanyu\n",
            "has\n",
            "trouble\n",
            "in\n",
            "deciding\n",
            "left\n",
            "or\n",
            "right\n",
            "while\n",
            "driving\n"
          ]
        }
      ]
    },
    {
      "cell_type": "code",
      "source": [
        "newList = ['']*10 ; \n",
        "\n",
        "newList = [ 'Odd' if i%2 == 1 else i for i in range(len(newList)) ] ; \n",
        "print(newList)"
      ],
      "metadata": {
        "colab": {
          "base_uri": "https://localhost:8080/"
        },
        "id": "8FrvAQ0V3iTq",
        "outputId": "f48ca19e-e612-4991-e2f5-c00e7fec8470"
      },
      "execution_count": 46,
      "outputs": [
        {
          "output_type": "stream",
          "name": "stdout",
          "text": [
            "[0, 'Odd', 2, 'Odd', 4, 'Odd', 6, 'Odd', 8, 'Odd']\n"
          ]
        }
      ]
    },
    {
      "cell_type": "code",
      "source": [
        ""
      ],
      "metadata": {
        "id": "DVZFheZH6CK6"
      },
      "execution_count": null,
      "outputs": []
    },
    {
      "cell_type": "markdown",
      "source": [
        "###Broadcasting In Numpy"
      ],
      "metadata": {
        "id": "Vq6_Pa-y6Zdl"
      }
    },
    {
      "cell_type": "code",
      "source": [
        "%reset -f\n",
        "import numpy as np\n",
        "%whos"
      ],
      "metadata": {
        "colab": {
          "base_uri": "https://localhost:8080/"
        },
        "id": "8OxI9Aia6fWk",
        "outputId": "e7c9d618-70a0-48c2-873b-7bbe3bb4e82e"
      },
      "execution_count": 104,
      "outputs": [
        {
          "output_type": "stream",
          "name": "stdout",
          "text": [
            "Variable   Type      Data/Info\n",
            "------------------------------\n",
            "np         module    <module 'numpy' from '/us<...>kages/numpy/__init__.py'>\n"
          ]
        }
      ]
    },
    {
      "cell_type": "code",
      "source": [
        "X = np.array([ [1 , 2 , 3] , \n",
        "              [2 , 3 , 4] , \n",
        "              [3 , 4 , 5] , \n",
        "              [4 , 5 , 5] ])\n",
        "print('X = '+ str(X) )\n",
        "print('')\n",
        "w = np.array([10 , 20 , 30])\n",
        "print('w = ' + str(w) )"
      ],
      "metadata": {
        "colab": {
          "base_uri": "https://localhost:8080/"
        },
        "id": "nCDe4BPu6vHG",
        "outputId": "befd40ff-9387-433d-d6eb-20d2723983dc"
      },
      "execution_count": 82,
      "outputs": [
        {
          "output_type": "stream",
          "name": "stdout",
          "text": [
            "X = [[1 2 3]\n",
            " [2 3 4]\n",
            " [3 4 5]\n",
            " [4 5 5]]\n",
            "\n",
            "w = [10 20 30]\n"
          ]
        }
      ]
    },
    {
      "cell_type": "code",
      "source": [
        "np.shape(X)\n",
        "X.shape"
      ],
      "metadata": {
        "colab": {
          "base_uri": "https://localhost:8080/"
        },
        "id": "inoCmo7p7EQb",
        "outputId": "218edfa0-7577-4134-c8f1-843e3e50c270"
      },
      "execution_count": 83,
      "outputs": [
        {
          "output_type": "execute_result",
          "data": {
            "text/plain": [
              "(4, 3)"
            ]
          },
          "metadata": {},
          "execution_count": 83
        }
      ]
    },
    {
      "cell_type": "code",
      "source": [
        "Y = X\n",
        "Y = X + w\n",
        "Y"
      ],
      "metadata": {
        "colab": {
          "base_uri": "https://localhost:8080/"
        },
        "id": "hDS2t2Fg7fey",
        "outputId": "aae3783b-4154-44eb-e721-1309652eb854"
      },
      "execution_count": 84,
      "outputs": [
        {
          "output_type": "execute_result",
          "data": {
            "text/plain": [
              "array([[11, 22, 33],\n",
              "       [12, 23, 34],\n",
              "       [13, 24, 35],\n",
              "       [14, 25, 35]])"
            ]
          },
          "metadata": {},
          "execution_count": 84
        }
      ]
    },
    {
      "cell_type": "code",
      "source": [
        "X"
      ],
      "metadata": {
        "colab": {
          "base_uri": "https://localhost:8080/"
        },
        "id": "SubhR1BQJKgM",
        "outputId": "e742a83b-1ef6-4b63-ba3f-66a6cd7284fa"
      },
      "execution_count": 85,
      "outputs": [
        {
          "output_type": "execute_result",
          "data": {
            "text/plain": [
              "array([[1, 2, 3],\n",
              "       [2, 3, 4],\n",
              "       [3, 4, 5],\n",
              "       [4, 5, 5]])"
            ]
          },
          "metadata": {},
          "execution_count": 85
        }
      ]
    },
    {
      "cell_type": "code",
      "source": [
        "v = np.arange(9)\n",
        "M = np.reshape(v , (3 , 3))\n",
        "C = np.tile(M , (3 , 1))\n",
        "print('C = ' + str(C)) ; print('')\n",
        "print('v = ' + str(v) )"
      ],
      "metadata": {
        "colab": {
          "base_uri": "https://localhost:8080/"
        },
        "id": "B2Sr1ki_MUUU",
        "outputId": "1ae859d2-4a47-490f-a1e3-c6f49c46668f"
      },
      "execution_count": 97,
      "outputs": [
        {
          "output_type": "stream",
          "name": "stdout",
          "text": [
            "C = [[0 1 2]\n",
            " [3 4 5]\n",
            " [6 7 8]\n",
            " [0 1 2]\n",
            " [3 4 5]\n",
            " [6 7 8]\n",
            " [0 1 2]\n",
            " [3 4 5]\n",
            " [6 7 8]]\n",
            "\n",
            "v = [0 1 2 3 4 5 6 7 8]\n"
          ]
        }
      ]
    },
    {
      "cell_type": "code",
      "source": [
        "print(np.reshape(v , (9 , 1)))\n",
        "B = C * np.reshape(v , (len(v) , 1) )\n",
        "B"
      ],
      "metadata": {
        "colab": {
          "base_uri": "https://localhost:8080/"
        },
        "id": "A7VfzNR9QNWS",
        "outputId": "75c7de24-dc7d-4f0b-fc20-86204b2f01a1"
      },
      "execution_count": 102,
      "outputs": [
        {
          "output_type": "stream",
          "name": "stdout",
          "text": [
            "[[0]\n",
            " [1]\n",
            " [2]\n",
            " [3]\n",
            " [4]\n",
            " [5]\n",
            " [6]\n",
            " [7]\n",
            " [8]]\n"
          ]
        },
        {
          "output_type": "execute_result",
          "data": {
            "text/plain": [
              "array([[ 0,  0,  0],\n",
              "       [ 3,  4,  5],\n",
              "       [12, 14, 16],\n",
              "       [ 0,  3,  6],\n",
              "       [12, 16, 20],\n",
              "       [30, 35, 40],\n",
              "       [ 0,  6, 12],\n",
              "       [21, 28, 35],\n",
              "       [48, 56, 64]])"
            ]
          },
          "metadata": {},
          "execution_count": 102
        }
      ]
    },
    {
      "cell_type": "markdown",
      "source": [
        "###Formatting Print Statments:"
      ],
      "metadata": {
        "id": "OaksigKQXTB_"
      }
    },
    {
      "cell_type": "code",
      "source": [
        "# a is the 1st letter of the alphabet.\n",
        "# .\n",
        "# .\n",
        "# .\n",
        "# z is the 26th letter of the alphabet\n",
        "\n",
        "import string\n",
        "\n",
        "z = np.array( list(string.ascii_lowercase ) )\n",
        "type(z)\n",
        "print(z.size)\n",
        "i = 0 ; \n",
        "print('%s is the %2ist letter of the alphabet.' %( z[0] , i+1)) ; i = 1\n",
        "print('%s is the %2ind letter of the alphabet.' %( z[1] , i+1)) ; i = 2\n",
        "print('%s is the %2ird letter of the alphabet.' %( z[2] , i+1)) ; \n",
        "\n",
        "for i in range(3 , z.size):\n",
        "  print('%s is the %2ith letter of the alphabet.' %( z[0] , i+1)) ;"
      ],
      "metadata": {
        "colab": {
          "base_uri": "https://localhost:8080/"
        },
        "id": "wIYx28mLXblI",
        "outputId": "b206d371-fc13-4491-fb19-c18b65648a11"
      },
      "execution_count": 143,
      "outputs": [
        {
          "output_type": "stream",
          "name": "stdout",
          "text": [
            "26\n",
            "a is the  1st letter of the alphabet.\n",
            "b is the  2nd letter of the alphabet.\n",
            "c is the  3rd letter of the alphabet.\n",
            "a is the  4th letter of the alphabet.\n",
            "a is the  5th letter of the alphabet.\n",
            "a is the  6th letter of the alphabet.\n",
            "a is the  7th letter of the alphabet.\n",
            "a is the  8th letter of the alphabet.\n",
            "a is the  9th letter of the alphabet.\n",
            "a is the 10th letter of the alphabet.\n",
            "a is the 11th letter of the alphabet.\n",
            "a is the 12th letter of the alphabet.\n",
            "a is the 13th letter of the alphabet.\n",
            "a is the 14th letter of the alphabet.\n",
            "a is the 15th letter of the alphabet.\n",
            "a is the 16th letter of the alphabet.\n",
            "a is the 17th letter of the alphabet.\n",
            "a is the 18th letter of the alphabet.\n",
            "a is the 19th letter of the alphabet.\n",
            "a is the 20th letter of the alphabet.\n",
            "a is the 21th letter of the alphabet.\n",
            "a is the 22th letter of the alphabet.\n",
            "a is the 23th letter of the alphabet.\n",
            "a is the 24th letter of the alphabet.\n",
            "a is the 25th letter of the alphabet.\n",
            "a is the 26th letter of the alphabet.\n"
          ]
        }
      ]
    }
  ]
}