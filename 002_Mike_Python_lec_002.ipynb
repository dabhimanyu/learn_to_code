{
  "nbformat": 4,
  "nbformat_minor": 0,
  "metadata": {
    "colab": {
      "name": "002_Mike_Python_lec_002.ipynb",
      "provenance": [],
      "collapsed_sections": [],
      "authorship_tag": "ABX9TyOYGt/x/xxrUmIqbmWx8aI3",
      "include_colab_link": true
    },
    "kernelspec": {
      "name": "python3",
      "display_name": "Python 3"
    },
    "language_info": {
      "name": "python"
    }
  },
  "cells": [
    {
      "cell_type": "markdown",
      "metadata": {
        "id": "view-in-github",
        "colab_type": "text"
      },
      "source": [
        "<a href=\"https://colab.research.google.com/github/dabhimanyu/learn_to_code/blob/python_codes/002_Mike_Python_lec_002.ipynb\" target=\"_parent\"><img src=\"https://colab.research.google.com/assets/colab-badge.svg\" alt=\"Open In Colab\"/></a>"
      ]
    },
    {
      "cell_type": "markdown",
      "source": [
        "###Flow Control STatments in Python:"
      ],
      "metadata": {
        "id": "WMQp8TgbKiP_"
      }
    },
    {
      "cell_type": "code",
      "execution_count": null,
      "metadata": {
        "id": "xybFIrTQKC51",
        "colab": {
          "base_uri": "https://localhost:8080/"
        },
        "outputId": "2f2fad55-191c-417d-ee2e-bdd68e537e54"
      },
      "outputs": [
        {
          "output_type": "stream",
          "name": "stdout",
          "text": [
            "Variable   Type      Data/Info\n",
            "------------------------------\n",
            "np         module    <module 'numpy' from '/us<...>kages/numpy/__init__.py'>\n"
          ]
        }
      ],
      "source": [
        "# if-else\n",
        "\n",
        "%reset -f\n",
        "import numpy as np\n",
        "%whos"
      ]
    },
    {
      "cell_type": "code",
      "source": [
        "isinstance??\n",
        "pj = np.arange(1 , 6)\n",
        "tj = np.arange(6 , 1 , -1)\n",
        "print(type(pj))\n",
        "print('pj = ' + str(pj))\n",
        "print('tj = ' + str(tj))\n",
        "# pj = np.alist(np.arange(10))\n",
        "isinstance(pj , np.ndarray)\n",
        "print('Size of pj = ' + str(np.size(pj)) )\n",
        "print('Product of Pj and Tj = ' + str(pj*tj) )"
      ],
      "metadata": {
        "colab": {
          "base_uri": "https://localhost:8080/"
        },
        "id": "uFgZf8hJOHd2",
        "outputId": "cae2fbcf-601e-4b7e-bfc5-12271e8f3f05"
      },
      "execution_count": null,
      "outputs": [
        {
          "output_type": "stream",
          "name": "stdout",
          "text": [
            "<class 'numpy.ndarray'>\n",
            "pj = [1 2 3 4 5]\n",
            "tj = [6 5 4 3 2]\n",
            "Size of pj = 5\n",
            "Product of Pj and Tj = [ 6 10 12 12 10]\n"
          ]
        }
      ]
    },
    {
      "cell_type": "code",
      "source": [
        "# Create a function to compute dot product:\n",
        "# 1. check if both inputs are numpy arrays ( Hint: isinstance() )\n",
        "# 2. Check if both arrays have same length\n",
        "# 3. Return a meaningful error message\n",
        "# 4. Compute dot product if things are in order:\n",
        "\n",
        "def myDotProduct(arr1 , arr2):\n",
        "  if not ( isinstance(arr1 , np.ndarray) and isinstance(arr2 , np.ndarray) ):\n",
        "    raise Exception('Both Input variables needs to be numpy array')\n",
        "\n",
        "  if not ( np.size(arr1) == np.size(arr2) ):\n",
        "    raise Exception('Both Vectors should have same length')\n",
        "\n",
        "  return( np.sum( arr1 * arr2) )\n",
        "\n",
        "%whos"
      ],
      "metadata": {
        "colab": {
          "base_uri": "https://localhost:8080/"
        },
        "id": "lm0QaU7sNP3U",
        "outputId": "d8bed39b-5f83-4c81-918c-9cce567555fb"
      },
      "execution_count": null,
      "outputs": [
        {
          "output_type": "stream",
          "name": "stdout",
          "text": [
            "Variable       Type        Data/Info\n",
            "------------------------------------\n",
            "myDotProduct   function    <function myDotProduct at 0x7f0c94a62320>\n",
            "np             module      <module 'numpy' from '/us<...>kages/numpy/__init__.py'>\n",
            "pj             ndarray     5: 5 elems, type `int64`, 40 bytes\n",
            "tj             ndarray     5: 5 elems, type `int64`, 40 bytes\n"
          ]
        }
      ]
    },
    {
      "cell_type": "code",
      "source": [
        "myDotProduct(tj , pj)"
      ],
      "metadata": {
        "colab": {
          "base_uri": "https://localhost:8080/"
        },
        "id": "qib_l1JNVfOz",
        "outputId": "5cdf0cf6-b070-4645-da47-5afb45a0d629"
      },
      "execution_count": null,
      "outputs": [
        {
          "output_type": "execute_result",
          "data": {
            "text/plain": [
              "50"
            ]
          },
          "metadata": {},
          "execution_count": 46
        }
      ]
    },
    {
      "cell_type": "markdown",
      "source": [
        "### For Loop"
      ],
      "metadata": {
        "id": "bekYode0ZiQf"
      }
    },
    {
      "cell_type": "code",
      "source": [
        "for i in range(1,6):\n",
        "  print('Value Of i = ' + str(i))"
      ],
      "metadata": {
        "colab": {
          "base_uri": "https://localhost:8080/"
        },
        "id": "2VlfuDZtZlVd",
        "outputId": "a1261ea9-d6be-4825-a635-bac42e6deb46"
      },
      "execution_count": null,
      "outputs": [
        {
          "output_type": "stream",
          "name": "stdout",
          "text": [
            "Value Of i = 1\n",
            "Value Of i = 2\n",
            "Value Of i = 3\n",
            "Value Of i = 4\n",
            "Value Of i = 5\n"
          ]
        }
      ]
    },
    {
      "cell_type": "code",
      "source": [
        "# Make a poisson like counter using loops:\n",
        "\n",
        "# Parameter Lambda = 10\n",
        "# Start at 1, multiply by random number uniform( [0 , 1] )\n",
        "# Stop when target is less than exp(-lambda)\n",
        "# count the number of iterations used to reach the target: exp(-lambda)\n",
        "\n",
        "%reset -f\n",
        "import numpy as np\n",
        "np.random.uniform(0 , 1)\n",
        "np.exp(-10)"
      ],
      "metadata": {
        "colab": {
          "base_uri": "https://localhost:8080/"
        },
        "id": "wBcSDjOiZXK1",
        "outputId": "c79c8a50-dc65-44c9-f076-33835b4cd35e"
      },
      "execution_count": 9,
      "outputs": [
        {
          "output_type": "execute_result",
          "data": {
            "text/plain": [
              "4.5399929762484854e-05"
            ]
          },
          "metadata": {},
          "execution_count": 9
        }
      ]
    },
    {
      "cell_type": "code",
      "source": [
        "toggle  =   True\n",
        "target  =   1 ; \n",
        "count   =   0 ; \n",
        "\n",
        "# First way:\n",
        "while toggle:\n",
        "  target *=  target * np.random.uniform(0 , 1)\n",
        "  count += 1 ; \n",
        "  print(str(count) + '. Target = ' + str(target)) ; \n",
        "  if target < np.exp(-10):\n",
        "    break ; \n",
        "\n",
        "print('Counter = ' + str(count)) ; \n",
        "\n",
        "# Second way:\n",
        "toggle  =   True\n",
        "target  =   1 ; \n",
        "count   =   0 ; \n",
        "\n",
        "while toggle:\n",
        "  target *=  target * np.random.uniform(0 , 1)\n",
        "  count += 1 ; \n",
        "  print(str(count) + '. Target = ' + str(target)) ; \n",
        "  if target < np.exp(-10):\n",
        "    toggle = False ; \n",
        "\n",
        "print('Counter = ' + str(count)) ; "
      ],
      "metadata": {
        "colab": {
          "base_uri": "https://localhost:8080/"
        },
        "id": "WhAJTmtMa2Cu",
        "outputId": "7f1094d6-80a1-4ec2-f9b2-f06fc908c5e1"
      },
      "execution_count": 19,
      "outputs": [
        {
          "output_type": "stream",
          "name": "stdout",
          "text": [
            "1. Target = 0.2678745700106854\n",
            "2. Target = 0.022681932971696142\n",
            "3. Target = 0.0004611594497935682\n",
            "4. Target = 2.046593765636126e-07\n",
            "Counter = 4\n",
            "1. Target = 0.801333538550533\n",
            "2. Target = 0.2103694392927498\n",
            "3. Target = 0.033545376444446814\n",
            "4. Target = 0.0008728535531748701\n",
            "5. Target = 3.506812152558004e-07\n",
            "Counter = 5\n"
          ]
        }
      ]
    }
  ]
}