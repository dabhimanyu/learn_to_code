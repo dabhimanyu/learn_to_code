{
  "nbformat": 4,
  "nbformat_minor": 0,
  "metadata": {
    "colab": {
      "name": "001_Mike_Python_lec_001",
      "provenance": [],
      "authorship_tag": "ABX9TyN+WqBcyKj4hwtSwr6AfHWi",
      "include_colab_link": true
    },
    "kernelspec": {
      "name": "python3",
      "display_name": "Python 3"
    },
    "language_info": {
      "name": "python"
    }
  },
  "cells": [
    {
      "cell_type": "markdown",
      "metadata": {
        "id": "view-in-github",
        "colab_type": "text"
      },
      "source": [
        "<a href=\"https://colab.research.google.com/github/dabhimanyu/learn_to_code/blob/python_codes/001_Mike_Python_lec_001.ipynb\" target=\"_parent\"><img src=\"https://colab.research.google.com/assets/colab-badge.svg\" alt=\"Open In Colab\"/></a>"
      ]
    },
    {
      "cell_type": "code",
      "execution_count": 1,
      "metadata": {
        "colab": {
          "base_uri": "https://localhost:8080/"
        },
        "id": "vXUB3hlTiLIx",
        "outputId": "f36e2092-c44a-412f-ee9a-56e372c583cf"
      },
      "outputs": [
        {
          "output_type": "stream",
          "name": "stdout",
          "text": [
            "3\n"
          ]
        },
        {
          "output_type": "execute_result",
          "data": {
            "text/plain": [
              "4"
            ]
          },
          "metadata": {},
          "execution_count": 1
        }
      ],
      "source": [
        "a = 3\n",
        "b = 4\n",
        "print(a)\n",
        "b"
      ]
    },
    {
      "cell_type": "code",
      "source": [
        "%whos\n",
        "%reset -f"
      ],
      "metadata": {
        "colab": {
          "base_uri": "https://localhost:8080/"
        },
        "id": "5SFnYQQmikzu",
        "outputId": "867e9a61-a57d-4289-a74f-ef69f90b38bd"
      },
      "execution_count": 2,
      "outputs": [
        {
          "output_type": "stream",
          "name": "stdout",
          "text": [
            "Variable   Type    Data/Info\n",
            "----------------------------\n",
            "a          int     3\n",
            "b          int     4\n"
          ]
        }
      ]
    },
    {
      "cell_type": "code",
      "source": [
        "%whos"
      ],
      "metadata": {
        "colab": {
          "base_uri": "https://localhost:8080/"
        },
        "id": "--I3qeB0o0L6",
        "outputId": "80c2e650-1064-4d8f-cf64-e9f87debea2e"
      },
      "execution_count": 3,
      "outputs": [
        {
          "output_type": "stream",
          "name": "stdout",
          "text": [
            "Interactive namespace is empty.\n"
          ]
        }
      ]
    },
    {
      "cell_type": "code",
      "source": [
        "# Creating Lists:\n",
        "# List -> []\n",
        "\n",
        "aList = [0 , 1 , 2 , 3 , 4 , 5]\n",
        "print(aList)\n",
        "%whos"
      ],
      "metadata": {
        "colab": {
          "base_uri": "https://localhost:8080/"
        },
        "id": "DZzRi8lUpDJD",
        "outputId": "fcc7d9e3-48c1-46a0-9eba-ad7660d093fc"
      },
      "execution_count": 4,
      "outputs": [
        {
          "output_type": "stream",
          "name": "stdout",
          "text": [
            "[0, 1, 2, 3, 4, 5]\n",
            "Variable   Type    Data/Info\n",
            "----------------------------\n",
            "aList      list    n=6\n"
          ]
        }
      ]
    },
    {
      "cell_type": "code",
      "source": [
        "strList = ['Hy' , 'my' , 'name' , 'is' , 'Abhimanyu']\n",
        "strList\n",
        "%whos"
      ],
      "metadata": {
        "colab": {
          "base_uri": "https://localhost:8080/"
        },
        "id": "9XbV40HfperX",
        "outputId": "7c7a8352-5680-418d-a4b8-05f4b37b9e73"
      },
      "execution_count": 5,
      "outputs": [
        {
          "output_type": "stream",
          "name": "stdout",
          "text": [
            "Variable   Type    Data/Info\n",
            "----------------------------\n",
            "aList      list    n=6\n",
            "strList    list    n=5\n"
          ]
        }
      ]
    },
    {
      "cell_type": "code",
      "source": [
        "mixList = [1 , '7' , 7 , 7.0]\n",
        "print(mixList)"
      ],
      "metadata": {
        "colab": {
          "base_uri": "https://localhost:8080/"
        },
        "id": "Kl42Yz9vppi7",
        "outputId": "1f6fbebc-0c73-45e9-e440-dcdc13306259"
      },
      "execution_count": 6,
      "outputs": [
        {
          "output_type": "stream",
          "name": "stdout",
          "text": [
            "[1, '7', 7, 7.0]\n"
          ]
        }
      ]
    },
    {
      "cell_type": "code",
      "source": [
        "listList = [1 , 2 , 3 , [5 , 6 , 7] , 8]\n",
        "print(listList)\n",
        "%whos"
      ],
      "metadata": {
        "colab": {
          "base_uri": "https://localhost:8080/"
        },
        "id": "Ieaq8Yqzp-rt",
        "outputId": "1a902679-ce02-4fe6-9c84-96d09cdd82e7"
      },
      "execution_count": 7,
      "outputs": [
        {
          "output_type": "stream",
          "name": "stdout",
          "text": [
            "[1, 2, 3, [5, 6, 7], 8]\n",
            "Variable   Type    Data/Info\n",
            "----------------------------\n",
            "aList      list    n=6\n",
            "listList   list    n=5\n",
            "mixList    list    n=4\n",
            "strList    list    n=5\n"
          ]
        }
      ]
    },
    {
      "cell_type": "code",
      "source": [
        "aList = [0 , 1 , 2 , 3 , 4 , 5 , 6]\n",
        "%whos\n",
        "5.1 not in aList"
      ],
      "metadata": {
        "colab": {
          "base_uri": "https://localhost:8080/"
        },
        "id": "Cy7EGbu6qO3J",
        "outputId": "3690e4cb-6d65-42df-e0da-d64504728d56"
      },
      "execution_count": 8,
      "outputs": [
        {
          "output_type": "stream",
          "name": "stdout",
          "text": [
            "Variable   Type    Data/Info\n",
            "----------------------------\n",
            "aList      list    n=7\n",
            "listList   list    n=5\n",
            "mixList    list    n=4\n",
            "strList    list    n=5\n"
          ]
        },
        {
          "output_type": "execute_result",
          "data": {
            "text/plain": [
              "True"
            ]
          },
          "metadata": {},
          "execution_count": 8
        }
      ]
    },
    {
      "cell_type": "code",
      "source": [
        "print(aList)\n",
        "print(strList)\n",
        "print(aList + strList )"
      ],
      "metadata": {
        "colab": {
          "base_uri": "https://localhost:8080/"
        },
        "id": "9HXjyS1JrZBO",
        "outputId": "48e79ab5-28ec-4773-c4ce-4acbcaa37698"
      },
      "execution_count": 9,
      "outputs": [
        {
          "output_type": "stream",
          "name": "stdout",
          "text": [
            "[0, 1, 2, 3, 4, 5, 6]\n",
            "['Hy', 'my', 'name', 'is', 'Abhimanyu']\n",
            "[0, 1, 2, 3, 4, 5, 6, 'Hy', 'my', 'name', 'is', 'Abhimanyu']\n"
          ]
        }
      ]
    },
    {
      "cell_type": "code",
      "source": [
        "# Methods:\n",
        "\n",
        "# NOTE: Methods are specific to the type of objects:\n",
        "\n",
        "print(aList)\n",
        "aList.append(100)\n",
        "print(aList)"
      ],
      "metadata": {
        "colab": {
          "base_uri": "https://localhost:8080/"
        },
        "id": "0ol8KhAntq0Q",
        "outputId": "fe3ca972-a80b-468a-9c76-2dc3cddd8af0"
      },
      "execution_count": 10,
      "outputs": [
        {
          "output_type": "stream",
          "name": "stdout",
          "text": [
            "[0, 1, 2, 3, 4, 5, 6]\n",
            "[0, 1, 2, 3, 4, 5, 6, 100]\n"
          ]
        }
      ]
    },
    {
      "cell_type": "code",
      "source": [
        "aList.sort()\n",
        "print(aList)"
      ],
      "metadata": {
        "colab": {
          "base_uri": "https://localhost:8080/"
        },
        "id": "HKLotIxnuiWE",
        "outputId": "f668e900-1372-4fdf-b3af-2ca722a14e68"
      },
      "execution_count": 11,
      "outputs": [
        {
          "output_type": "stream",
          "name": "stdout",
          "text": [
            "[0, 1, 2, 3, 4, 5, 6, 100]\n"
          ]
        }
      ]
    },
    {
      "cell_type": "code",
      "source": [
        "# Tuples:\n",
        "%reset -f\n",
        "# A tuple is immutable, while a list is mutable:\n",
        "aTuple = (1 , '2' , 3)\n",
        "aList  = [1 , '2' , 3]\n",
        "%whos\n"
      ],
      "metadata": {
        "colab": {
          "base_uri": "https://localhost:8080/"
        },
        "id": "Wb-XVRFel6b9",
        "outputId": "13cb7764-5b68-475c-dbb3-eda6cedd32f7"
      },
      "execution_count": 12,
      "outputs": [
        {
          "output_type": "stream",
          "name": "stdout",
          "text": [
            "Variable   Type     Data/Info\n",
            "-----------------------------\n",
            "aList      list     n=3\n",
            "aTuple     tuple    n=3\n"
          ]
        }
      ]
    },
    {
      "cell_type": "code",
      "source": [
        "D = dict()\n",
        "D"
      ],
      "metadata": {
        "colab": {
          "base_uri": "https://localhost:8080/"
        },
        "id": "1mKJb2yCqh2M",
        "outputId": "5c02d280-dbb6-4ee7-f199-3ec76a5b263c"
      },
      "execution_count": 13,
      "outputs": [
        {
          "output_type": "execute_result",
          "data": {
            "text/plain": [
              "{}"
            ]
          },
          "metadata": {},
          "execution_count": 13
        }
      ]
    },
    {
      "cell_type": "code",
      "source": [
        "D['Name'] = 'Abhimanyu'\n",
        "D['Age'] = [20 , 30]\n",
        "print(D)"
      ],
      "metadata": {
        "colab": {
          "base_uri": "https://localhost:8080/"
        },
        "id": "sjamzMIQgDEW",
        "outputId": "a7a188c6-7923-49c6-c1bb-84d50d1401b5"
      },
      "execution_count": 15,
      "outputs": [
        {
          "output_type": "stream",
          "name": "stdout",
          "text": [
            "{'Name': 'Abhimanyu', 'Age': [20, 30]}\n"
          ]
        }
      ]
    },
    {
      "cell_type": "code",
      "source": [
        "D.items()\n",
        "'name' not in D"
      ],
      "metadata": {
        "colab": {
          "base_uri": "https://localhost:8080/"
        },
        "id": "feTFHU9GhRmU",
        "outputId": "faccc44c-0622-4158-f531-75425fbfe2a9"
      },
      "execution_count": 22,
      "outputs": [
        {
          "output_type": "execute_result",
          "data": {
            "text/plain": [
              "True"
            ]
          },
          "metadata": {},
          "execution_count": 22
        }
      ]
    },
    {
      "cell_type": "markdown",
      "source": [
        "###Dictionaries"
      ],
      "metadata": {
        "id": "lK_rt_x6shfv"
      }
    },
    {
      "cell_type": "code",
      "source": [
        "%reset -f\n",
        "\n",
        "D = dict()\n",
        "num1 = float(input('Enter First Number:  '))\n",
        "num2 = float(input('Enter Second Number: '))\n",
        "\n",
        "D['firstNum'] = num1\n",
        "D['secondNum'] = num2\n",
        "D['prod'] = D['firstNum'] * D['secondNum']\n",
        "\n",
        "print(D)\n",
        "%whos"
      ],
      "metadata": {
        "colab": {
          "base_uri": "https://localhost:8080/"
        },
        "id": "H8CjKHAJiHbR",
        "outputId": "bb9fc3de-db1c-4586-a33c-514e470004f4"
      },
      "execution_count": 25,
      "outputs": [
        {
          "output_type": "stream",
          "name": "stdout",
          "text": [
            "Enter First Number:  12\n",
            "Enter Second Number: 3\n",
            "{'firstNum': 12.0, 'secondNum': 3.0, 'prod': 36.0}\n",
            "Variable   Type     Data/Info\n",
            "-----------------------------\n",
            "D          dict     n=3\n",
            "num1       float    12.0\n",
            "num2       float    3.0\n"
          ]
        }
      ]
    },
    {
      "cell_type": "code",
      "source": [
        "aRange = range(12 , 13)\n",
        "aRange"
      ],
      "metadata": {
        "colab": {
          "base_uri": "https://localhost:8080/"
        },
        "id": "DFIAAJi0j43s",
        "outputId": "8f7fc2db-59a0-44d2-abbb-9eb09097b042"
      },
      "execution_count": 43,
      "outputs": [
        {
          "output_type": "execute_result",
          "data": {
            "text/plain": [
              "range(12, 13)"
            ]
          },
          "metadata": {},
          "execution_count": 43
        }
      ]
    },
    {
      "cell_type": "code",
      "source": [
        "aList = list(aRange)\n",
        "aList.append([1.2 , 1.3 , .4])\n",
        "aList.append([2 , 3])\n",
        "aList"
      ],
      "metadata": {
        "colab": {
          "base_uri": "https://localhost:8080/"
        },
        "id": "KwBbROQ-kG-G",
        "outputId": "0a9f4bda-40e8-409f-eff5-e69dd689d820"
      },
      "execution_count": 44,
      "outputs": [
        {
          "output_type": "execute_result",
          "data": {
            "text/plain": [
              "[12, [1.2, 1.3, 0.4], [2, 3]]"
            ]
          },
          "metadata": {},
          "execution_count": 44
        }
      ]
    },
    {
      "cell_type": "code",
      "source": [
        "aList[2][1]"
      ],
      "metadata": {
        "colab": {
          "base_uri": "https://localhost:8080/"
        },
        "id": "BZ7XEXy_kK8l",
        "outputId": "4dec10ce-f3d8-4230-a83d-af19c67f8b23"
      },
      "execution_count": 48,
      "outputs": [
        {
          "output_type": "execute_result",
          "data": {
            "text/plain": [
              "3"
            ]
          },
          "metadata": {},
          "execution_count": 48
        }
      ]
    },
    {
      "cell_type": "markdown",
      "source": [
        "### Slicing"
      ],
      "metadata": {
        "id": "0bgD9HQastaC"
      }
    },
    {
      "cell_type": "code",
      "source": [
        "aList = list(range(5,11))\n",
        "aList"
      ],
      "metadata": {
        "colab": {
          "base_uri": "https://localhost:8080/"
        },
        "id": "B_WIlqAysvXR",
        "outputId": "aa493358-a974-48d2-83c6-cdcb899641b1"
      },
      "execution_count": 50,
      "outputs": [
        {
          "output_type": "execute_result",
          "data": {
            "text/plain": [
              "[5, 6, 7, 8, 9, 10]"
            ]
          },
          "metadata": {},
          "execution_count": 50
        }
      ]
    },
    {
      "cell_type": "code",
      "source": [
        "aList[-3:]"
      ],
      "metadata": {
        "colab": {
          "base_uri": "https://localhost:8080/"
        },
        "id": "DpSNWqTys51s",
        "outputId": "07c8ddaf-c4a8-4ae8-ceeb-60006f15746f"
      },
      "execution_count": 55,
      "outputs": [
        {
          "output_type": "execute_result",
          "data": {
            "text/plain": [
              "[8, 9, 10]"
            ]
          },
          "metadata": {},
          "execution_count": 55
        }
      ]
    },
    {
      "cell_type": "markdown",
      "source": [
        "###Functions:"
      ],
      "metadata": {
        "id": "VnIm86aEumPI"
      }
    },
    {
      "cell_type": "code",
      "source": [
        "# Functions\n",
        "%reset -f\n",
        "\n",
        "aList = list(range(10 , 50 , 10))\n",
        "print(aList)"
      ],
      "metadata": {
        "colab": {
          "base_uri": "https://localhost:8080/"
        },
        "id": "7JBsUPz9uoD1",
        "outputId": "27b498bf-20eb-48b9-ab21-d50424b0b106"
      },
      "execution_count": 59,
      "outputs": [
        {
          "output_type": "stream",
          "name": "stdout",
          "text": [
            "[10, 20, 30, 40]\n"
          ]
        }
      ]
    },
    {
      "cell_type": "code",
      "source": [
        "print('sum = ' , sum(aList) )\n",
        "print('Length = ' , len(aList) )\n",
        "avg = sum(aList) / len(aList)\n",
        "print('Mean = ' , avg)"
      ],
      "metadata": {
        "colab": {
          "base_uri": "https://localhost:8080/"
        },
        "id": "D2VXvqWjvDnl",
        "outputId": "4b03ed63-827c-4634-f289-3db25f800f6d"
      },
      "execution_count": 66,
      "outputs": [
        {
          "output_type": "stream",
          "name": "stdout",
          "text": [
            "sum =  100\n",
            "Length =  4\n",
            "Mean =  25.0\n"
          ]
        }
      ]
    },
    {
      "cell_type": "markdown",
      "source": [
        "### Numpy Module:"
      ],
      "metadata": {
        "id": "Z3vot8PewivV"
      }
    },
    {
      "cell_type": "code",
      "source": [
        "%reset -f\n",
        "%whos "
      ],
      "metadata": {
        "colab": {
          "base_uri": "https://localhost:8080/"
        },
        "id": "uS60PSdcwl7P",
        "outputId": "f30e1223-41d2-4072-db9b-14382f271b51"
      },
      "execution_count": 67,
      "outputs": [
        {
          "output_type": "stream",
          "name": "stdout",
          "text": [
            "Interactive namespace is empty.\n"
          ]
        }
      ]
    },
    {
      "cell_type": "code",
      "source": [
        "import numpy as np\n"
      ],
      "metadata": {
        "id": "QDoIgSsQwq_8"
      },
      "execution_count": null,
      "outputs": []
    }
  ]
}