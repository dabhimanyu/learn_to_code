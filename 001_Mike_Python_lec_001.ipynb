{
  "nbformat": 4,
  "nbformat_minor": 0,
  "metadata": {
    "colab": {
      "name": "001_Mike_Python_lec_001",
      "provenance": [],
      "authorship_tag": "ABX9TyPOOf3KgxZwNYm/U16eODGc",
      "include_colab_link": true
    },
    "kernelspec": {
      "name": "python3",
      "display_name": "Python 3"
    },
    "language_info": {
      "name": "python"
    }
  },
  "cells": [
    {
      "cell_type": "markdown",
      "metadata": {
        "id": "view-in-github",
        "colab_type": "text"
      },
      "source": [
        "<a href=\"https://colab.research.google.com/github/dabhimanyu/learn_to_code/blob/python_codes/001_Mike_Python_lec_001.ipynb\" target=\"_parent\"><img src=\"https://colab.research.google.com/assets/colab-badge.svg\" alt=\"Open In Colab\"/></a>"
      ]
    },
    {
      "cell_type": "code",
      "execution_count": 1,
      "metadata": {
        "colab": {
          "base_uri": "https://localhost:8080/"
        },
        "id": "vXUB3hlTiLIx",
        "outputId": "f36e2092-c44a-412f-ee9a-56e372c583cf"
      },
      "outputs": [
        {
          "output_type": "stream",
          "name": "stdout",
          "text": [
            "3\n"
          ]
        },
        {
          "output_type": "execute_result",
          "data": {
            "text/plain": [
              "4"
            ]
          },
          "metadata": {},
          "execution_count": 1
        }
      ],
      "source": [
        "a = 3\n",
        "b = 4\n",
        "print(a)\n",
        "b"
      ]
    },
    {
      "cell_type": "code",
      "source": [
        "%whos\n",
        "%reset -f"
      ],
      "metadata": {
        "colab": {
          "base_uri": "https://localhost:8080/"
        },
        "id": "5SFnYQQmikzu",
        "outputId": "867e9a61-a57d-4289-a74f-ef69f90b38bd"
      },
      "execution_count": 2,
      "outputs": [
        {
          "output_type": "stream",
          "name": "stdout",
          "text": [
            "Variable   Type    Data/Info\n",
            "----------------------------\n",
            "a          int     3\n",
            "b          int     4\n"
          ]
        }
      ]
    },
    {
      "cell_type": "code",
      "source": [
        "%whos"
      ],
      "metadata": {
        "colab": {
          "base_uri": "https://localhost:8080/"
        },
        "id": "--I3qeB0o0L6",
        "outputId": "80c2e650-1064-4d8f-cf64-e9f87debea2e"
      },
      "execution_count": 3,
      "outputs": [
        {
          "output_type": "stream",
          "name": "stdout",
          "text": [
            "Interactive namespace is empty.\n"
          ]
        }
      ]
    },
    {
      "cell_type": "code",
      "source": [
        "# Creating Lists:\n",
        "# List -> []\n",
        "\n",
        "aList = [0 , 1 , 2 , 3 , 4 , 5]\n",
        "print(aList)\n",
        "%whos"
      ],
      "metadata": {
        "colab": {
          "base_uri": "https://localhost:8080/"
        },
        "id": "DZzRi8lUpDJD",
        "outputId": "fcc7d9e3-48c1-46a0-9eba-ad7660d093fc"
      },
      "execution_count": 4,
      "outputs": [
        {
          "output_type": "stream",
          "name": "stdout",
          "text": [
            "[0, 1, 2, 3, 4, 5]\n",
            "Variable   Type    Data/Info\n",
            "----------------------------\n",
            "aList      list    n=6\n"
          ]
        }
      ]
    },
    {
      "cell_type": "code",
      "source": [
        "strList = ['Hy' , 'my' , 'name' , 'is' , 'Abhimanyu']\n",
        "strList\n",
        "%whos"
      ],
      "metadata": {
        "colab": {
          "base_uri": "https://localhost:8080/"
        },
        "id": "9XbV40HfperX",
        "outputId": "7c7a8352-5680-418d-a4b8-05f4b37b9e73"
      },
      "execution_count": 5,
      "outputs": [
        {
          "output_type": "stream",
          "name": "stdout",
          "text": [
            "Variable   Type    Data/Info\n",
            "----------------------------\n",
            "aList      list    n=6\n",
            "strList    list    n=5\n"
          ]
        }
      ]
    },
    {
      "cell_type": "code",
      "source": [
        "mixList = [1 , '7' , 7 , 7.0]\n",
        "print(mixList)"
      ],
      "metadata": {
        "colab": {
          "base_uri": "https://localhost:8080/"
        },
        "id": "Kl42Yz9vppi7",
        "outputId": "1f6fbebc-0c73-45e9-e440-dcdc13306259"
      },
      "execution_count": 6,
      "outputs": [
        {
          "output_type": "stream",
          "name": "stdout",
          "text": [
            "[1, '7', 7, 7.0]\n"
          ]
        }
      ]
    },
    {
      "cell_type": "code",
      "source": [
        "listList = [1 , 2 , 3 , [5 , 6 , 7] , 8]\n",
        "print(listList)\n",
        "%whos"
      ],
      "metadata": {
        "colab": {
          "base_uri": "https://localhost:8080/"
        },
        "id": "Ieaq8Yqzp-rt",
        "outputId": "1a902679-ce02-4fe6-9c84-96d09cdd82e7"
      },
      "execution_count": 7,
      "outputs": [
        {
          "output_type": "stream",
          "name": "stdout",
          "text": [
            "[1, 2, 3, [5, 6, 7], 8]\n",
            "Variable   Type    Data/Info\n",
            "----------------------------\n",
            "aList      list    n=6\n",
            "listList   list    n=5\n",
            "mixList    list    n=4\n",
            "strList    list    n=5\n"
          ]
        }
      ]
    },
    {
      "cell_type": "code",
      "source": [
        "aList = [0 , 1 , 2 , 3 , 4 , 5 , 6]\n",
        "%whos\n",
        "5.1 not in aList"
      ],
      "metadata": {
        "colab": {
          "base_uri": "https://localhost:8080/"
        },
        "id": "Cy7EGbu6qO3J",
        "outputId": "3690e4cb-6d65-42df-e0da-d64504728d56"
      },
      "execution_count": 8,
      "outputs": [
        {
          "output_type": "stream",
          "name": "stdout",
          "text": [
            "Variable   Type    Data/Info\n",
            "----------------------------\n",
            "aList      list    n=7\n",
            "listList   list    n=5\n",
            "mixList    list    n=4\n",
            "strList    list    n=5\n"
          ]
        },
        {
          "output_type": "execute_result",
          "data": {
            "text/plain": [
              "True"
            ]
          },
          "metadata": {},
          "execution_count": 8
        }
      ]
    },
    {
      "cell_type": "code",
      "source": [
        "print(aList)\n",
        "print(strList)\n",
        "print(aList + strList )"
      ],
      "metadata": {
        "colab": {
          "base_uri": "https://localhost:8080/"
        },
        "id": "9HXjyS1JrZBO",
        "outputId": "48e79ab5-28ec-4773-c4ce-4acbcaa37698"
      },
      "execution_count": 9,
      "outputs": [
        {
          "output_type": "stream",
          "name": "stdout",
          "text": [
            "[0, 1, 2, 3, 4, 5, 6]\n",
            "['Hy', 'my', 'name', 'is', 'Abhimanyu']\n",
            "[0, 1, 2, 3, 4, 5, 6, 'Hy', 'my', 'name', 'is', 'Abhimanyu']\n"
          ]
        }
      ]
    },
    {
      "cell_type": "code",
      "source": [
        "# Methods:\n",
        "\n",
        "# NOTE: Methods are specific to the type of objects:\n",
        "\n",
        "print(aList)\n",
        "aList.append(100)\n",
        "print(aList)"
      ],
      "metadata": {
        "colab": {
          "base_uri": "https://localhost:8080/"
        },
        "id": "0ol8KhAntq0Q",
        "outputId": "fe3ca972-a80b-468a-9c76-2dc3cddd8af0"
      },
      "execution_count": 10,
      "outputs": [
        {
          "output_type": "stream",
          "name": "stdout",
          "text": [
            "[0, 1, 2, 3, 4, 5, 6]\n",
            "[0, 1, 2, 3, 4, 5, 6, 100]\n"
          ]
        }
      ]
    },
    {
      "cell_type": "code",
      "source": [
        "aList.sort()\n",
        "print(aList)"
      ],
      "metadata": {
        "colab": {
          "base_uri": "https://localhost:8080/"
        },
        "id": "HKLotIxnuiWE",
        "outputId": "f668e900-1372-4fdf-b3af-2ca722a14e68"
      },
      "execution_count": 11,
      "outputs": [
        {
          "output_type": "stream",
          "name": "stdout",
          "text": [
            "[0, 1, 2, 3, 4, 5, 6, 100]\n"
          ]
        }
      ]
    },
    {
      "cell_type": "code",
      "source": [
        "# Tuples:\n",
        "%reset -f\n",
        "# A tuple is immutable, while a list is mutable:\n",
        "aTuple = (1 , '2' , 3)\n",
        "aList  = [1 , '2' , 3]\n",
        "%whos\n"
      ],
      "metadata": {
        "colab": {
          "base_uri": "https://localhost:8080/"
        },
        "id": "Wb-XVRFel6b9",
        "outputId": "13cb7764-5b68-475c-dbb3-eda6cedd32f7"
      },
      "execution_count": 12,
      "outputs": [
        {
          "output_type": "stream",
          "name": "stdout",
          "text": [
            "Variable   Type     Data/Info\n",
            "-----------------------------\n",
            "aList      list     n=3\n",
            "aTuple     tuple    n=3\n"
          ]
        }
      ]
    },
    {
      "cell_type": "code",
      "source": [
        "D = dict()\n",
        "D"
      ],
      "metadata": {
        "colab": {
          "base_uri": "https://localhost:8080/"
        },
        "id": "1mKJb2yCqh2M",
        "outputId": "5c02d280-dbb6-4ee7-f199-3ec76a5b263c"
      },
      "execution_count": 13,
      "outputs": [
        {
          "output_type": "execute_result",
          "data": {
            "text/plain": [
              "{}"
            ]
          },
          "metadata": {},
          "execution_count": 13
        }
      ]
    },
    {
      "cell_type": "code",
      "source": [
        "D['Name'] = 'Abhimanyu'\n",
        "D['Age'] = [20 , 30]\n",
        "print(D)"
      ],
      "metadata": {
        "colab": {
          "base_uri": "https://localhost:8080/"
        },
        "id": "sjamzMIQgDEW",
        "outputId": "a7a188c6-7923-49c6-c1bb-84d50d1401b5"
      },
      "execution_count": 15,
      "outputs": [
        {
          "output_type": "stream",
          "name": "stdout",
          "text": [
            "{'Name': 'Abhimanyu', 'Age': [20, 30]}\n"
          ]
        }
      ]
    },
    {
      "cell_type": "code",
      "source": [
        "D.items()\n",
        "'name' not in D"
      ],
      "metadata": {
        "colab": {
          "base_uri": "https://localhost:8080/"
        },
        "id": "feTFHU9GhRmU",
        "outputId": "faccc44c-0622-4158-f531-75425fbfe2a9"
      },
      "execution_count": 22,
      "outputs": [
        {
          "output_type": "execute_result",
          "data": {
            "text/plain": [
              "True"
            ]
          },
          "metadata": {},
          "execution_count": 22
        }
      ]
    },
    {
      "cell_type": "markdown",
      "source": [
        "###Dictionaries"
      ],
      "metadata": {
        "id": "lK_rt_x6shfv"
      }
    },
    {
      "cell_type": "code",
      "source": [
        "%reset -f\n",
        "\n",
        "D = dict()\n",
        "num1 = float(input('Enter First Number:  '))\n",
        "num2 = float(input('Enter Second Number: '))\n",
        "\n",
        "D['firstNum'] = num1\n",
        "D['secondNum'] = num2\n",
        "D['prod'] = D['firstNum'] * D['secondNum']\n",
        "\n",
        "print(D)\n",
        "%whos"
      ],
      "metadata": {
        "colab": {
          "base_uri": "https://localhost:8080/"
        },
        "id": "H8CjKHAJiHbR",
        "outputId": "bb9fc3de-db1c-4586-a33c-514e470004f4"
      },
      "execution_count": 25,
      "outputs": [
        {
          "output_type": "stream",
          "name": "stdout",
          "text": [
            "Enter First Number:  12\n",
            "Enter Second Number: 3\n",
            "{'firstNum': 12.0, 'secondNum': 3.0, 'prod': 36.0}\n",
            "Variable   Type     Data/Info\n",
            "-----------------------------\n",
            "D          dict     n=3\n",
            "num1       float    12.0\n",
            "num2       float    3.0\n"
          ]
        }
      ]
    },
    {
      "cell_type": "code",
      "source": [
        "aRange = range(12 , 13)\n",
        "aRange"
      ],
      "metadata": {
        "colab": {
          "base_uri": "https://localhost:8080/"
        },
        "id": "DFIAAJi0j43s",
        "outputId": "8f7fc2db-59a0-44d2-abbb-9eb09097b042"
      },
      "execution_count": 43,
      "outputs": [
        {
          "output_type": "execute_result",
          "data": {
            "text/plain": [
              "range(12, 13)"
            ]
          },
          "metadata": {},
          "execution_count": 43
        }
      ]
    },
    {
      "cell_type": "code",
      "source": [
        "aList = list(aRange)\n",
        "aList.append([1.2 , 1.3 , .4])\n",
        "aList.append([2 , 3])\n",
        "aList"
      ],
      "metadata": {
        "colab": {
          "base_uri": "https://localhost:8080/"
        },
        "id": "KwBbROQ-kG-G",
        "outputId": "0a9f4bda-40e8-409f-eff5-e69dd689d820"
      },
      "execution_count": 44,
      "outputs": [
        {
          "output_type": "execute_result",
          "data": {
            "text/plain": [
              "[12, [1.2, 1.3, 0.4], [2, 3]]"
            ]
          },
          "metadata": {},
          "execution_count": 44
        }
      ]
    },
    {
      "cell_type": "code",
      "source": [
        "aList[2][1]"
      ],
      "metadata": {
        "colab": {
          "base_uri": "https://localhost:8080/"
        },
        "id": "BZ7XEXy_kK8l",
        "outputId": "4dec10ce-f3d8-4230-a83d-af19c67f8b23"
      },
      "execution_count": 48,
      "outputs": [
        {
          "output_type": "execute_result",
          "data": {
            "text/plain": [
              "3"
            ]
          },
          "metadata": {},
          "execution_count": 48
        }
      ]
    },
    {
      "cell_type": "markdown",
      "source": [
        "### Slicing"
      ],
      "metadata": {
        "id": "0bgD9HQastaC"
      }
    },
    {
      "cell_type": "code",
      "source": [
        "aList = list(range(5,11))\n",
        "aList"
      ],
      "metadata": {
        "colab": {
          "base_uri": "https://localhost:8080/"
        },
        "id": "B_WIlqAysvXR",
        "outputId": "aa493358-a974-48d2-83c6-cdcb899641b1"
      },
      "execution_count": 50,
      "outputs": [
        {
          "output_type": "execute_result",
          "data": {
            "text/plain": [
              "[5, 6, 7, 8, 9, 10]"
            ]
          },
          "metadata": {},
          "execution_count": 50
        }
      ]
    },
    {
      "cell_type": "code",
      "source": [
        "aList[-3:]"
      ],
      "metadata": {
        "colab": {
          "base_uri": "https://localhost:8080/"
        },
        "id": "DpSNWqTys51s",
        "outputId": "07c8ddaf-c4a8-4ae8-ceeb-60006f15746f"
      },
      "execution_count": 55,
      "outputs": [
        {
          "output_type": "execute_result",
          "data": {
            "text/plain": [
              "[8, 9, 10]"
            ]
          },
          "metadata": {},
          "execution_count": 55
        }
      ]
    },
    {
      "cell_type": "markdown",
      "source": [
        "###Functions:"
      ],
      "metadata": {
        "id": "VnIm86aEumPI"
      }
    },
    {
      "cell_type": "code",
      "source": [
        "# Functions\n",
        "%reset -f\n",
        "\n",
        "aList = list(range(10 , 50 , 10))\n",
        "print(aList)"
      ],
      "metadata": {
        "colab": {
          "base_uri": "https://localhost:8080/"
        },
        "id": "7JBsUPz9uoD1",
        "outputId": "27b498bf-20eb-48b9-ab21-d50424b0b106"
      },
      "execution_count": 59,
      "outputs": [
        {
          "output_type": "stream",
          "name": "stdout",
          "text": [
            "[10, 20, 30, 40]\n"
          ]
        }
      ]
    },
    {
      "cell_type": "code",
      "source": [
        "print('sum = ' , sum(aList) )\n",
        "print('Length = ' , len(aList) )\n",
        "avg = sum(aList) / len(aList)\n",
        "print('Mean = ' , avg)"
      ],
      "metadata": {
        "colab": {
          "base_uri": "https://localhost:8080/"
        },
        "id": "D2VXvqWjvDnl",
        "outputId": "4b03ed63-827c-4634-f289-3db25f800f6d"
      },
      "execution_count": 66,
      "outputs": [
        {
          "output_type": "stream",
          "name": "stdout",
          "text": [
            "sum =  100\n",
            "Length =  4\n",
            "Mean =  25.0\n"
          ]
        }
      ]
    },
    {
      "cell_type": "markdown",
      "source": [
        "### Numpy Module:"
      ],
      "metadata": {
        "id": "Z3vot8PewivV"
      }
    },
    {
      "cell_type": "code",
      "source": [
        "%reset -f\n",
        "%whos "
      ],
      "metadata": {
        "colab": {
          "base_uri": "https://localhost:8080/"
        },
        "id": "uS60PSdcwl7P",
        "outputId": "afad880c-fcd8-4ff5-8d3e-ae0e371a2d1c"
      },
      "execution_count": 76,
      "outputs": [
        {
          "output_type": "stream",
          "name": "stdout",
          "text": [
            "Interactive namespace is empty.\n"
          ]
        }
      ]
    },
    {
      "cell_type": "code",
      "source": [
        "# import numpy as np\n",
        "%whos"
      ],
      "metadata": {
        "colab": {
          "base_uri": "https://localhost:8080/"
        },
        "id": "QDoIgSsQwq_8",
        "outputId": "b0f4cd49-13b9-4d80-d8a0-a98136321449"
      },
      "execution_count": 77,
      "outputs": [
        {
          "output_type": "stream",
          "name": "stdout",
          "text": [
            "Variable   Type      Data/Info\n",
            "------------------------------\n",
            "np         module    <module 'numpy' from '/us<...>kages/numpy/__init__.py'>\n"
          ]
        }
      ]
    },
    {
      "cell_type": "code",
      "source": [
        "aList = list(range(10 , 50 , 10))\n",
        "print(aList)"
      ],
      "metadata": {
        "colab": {
          "base_uri": "https://localhost:8080/"
        },
        "id": "Vd-_f98G0p-e",
        "outputId": "3b7451a7-279c-4060-b35c-37dbba873d40"
      },
      "execution_count": 79,
      "outputs": [
        {
          "output_type": "stream",
          "name": "stdout",
          "text": [
            "[10, 20, 30, 40]\n"
          ]
        }
      ]
    },
    {
      "cell_type": "code",
      "source": [
        "print('mean = ' , np.mean(aList) )  ; "
      ],
      "metadata": {
        "colab": {
          "base_uri": "https://localhost:8080/"
        },
        "id": "sTIi2h55Hy_Q",
        "outputId": "f12176e3-3d2d-47a6-dc68-fbd385f4d67c"
      },
      "execution_count": 81,
      "outputs": [
        {
          "output_type": "stream",
          "name": "stdout",
          "text": [
            "mean =  25.0\n"
          ]
        }
      ]
    },
    {
      "cell_type": "code",
      "source": [
        "nparray = np.linspace(1 , 80 , 20)"
      ],
      "metadata": {
        "id": "qi0ujz9WIIDF"
      },
      "execution_count": 90,
      "outputs": []
    },
    {
      "cell_type": "code",
      "source": [
        "%whos"
      ],
      "metadata": {
        "colab": {
          "base_uri": "https://localhost:8080/"
        },
        "id": "Y1i_ZOPtI26J",
        "outputId": "4cccc307-00de-4860-b543-43f54ad6d7c9"
      },
      "execution_count": 89,
      "outputs": [
        {
          "output_type": "stream",
          "name": "stdout",
          "text": [
            "Variable   Type       Data/Info\n",
            "-------------------------------\n",
            "aList      list       n=4\n",
            "np         module     <module 'numpy' from '/us<...>kages/numpy/__init__.py'>\n",
            "nparray    ndarray    20: 20 elems, type `float64`, 160 bytes\n"
          ]
        }
      ]
    },
    {
      "cell_type": "code",
      "source": [
        "nparray.sum()"
      ],
      "metadata": {
        "colab": {
          "base_uri": "https://localhost:8080/"
        },
        "id": "987XUxubI8CI",
        "outputId": "80dcea50-1a9e-4bf5-bd92-5ab9fec2e5c3"
      },
      "execution_count": 97,
      "outputs": [
        {
          "output_type": "execute_result",
          "data": {
            "text/plain": [
              "810.0"
            ]
          },
          "metadata": {},
          "execution_count": 97
        }
      ]
    },
    {
      "cell_type": "markdown",
      "source": [
        "###Pandas Module"
      ],
      "metadata": {
        "id": "MQeEa2aEKIbs"
      }
    },
    {
      "cell_type": "code",
      "source": [
        "%reset -f\n",
        "import numpy as np\n",
        "import pandas as pd\n",
        "%whos"
      ],
      "metadata": {
        "colab": {
          "base_uri": "https://localhost:8080/"
        },
        "id": "wnGplnW6JI1N",
        "outputId": "e974d6f2-e7bf-4d87-a2f6-af32e0c72d0a"
      },
      "execution_count": 99,
      "outputs": [
        {
          "output_type": "stream",
          "name": "stdout",
          "text": [
            "Variable   Type      Data/Info\n",
            "------------------------------\n",
            "np         module    <module 'numpy' from '/us<...>kages/numpy/__init__.py'>\n",
            "pd         module    <module 'pandas' from '/u<...>ages/pandas/__init__.py'>\n"
          ]
        }
      ]
    },
    {
      "cell_type": "code",
      "source": [
        "# Create some random data:\n",
        "var1 = 20 + 5 * np.random.randn(100)\n",
        "print(var1)\n",
        "print('Mean = ' , var1.mean() ) ; \n",
        "print('Std. Deviation = ' , var1.std() )"
      ],
      "metadata": {
        "colab": {
          "base_uri": "https://localhost:8080/"
        },
        "id": "elHJy1ptKXp5",
        "outputId": "87bd547c-c1da-473d-f5bd-fd87f217d34b"
      },
      "execution_count": 105,
      "outputs": [
        {
          "output_type": "stream",
          "name": "stdout",
          "text": [
            "[22.56849509 18.31533027 15.70911367 16.70215793 20.53483649 24.14266836\n",
            " 25.66428984 20.41649419 26.60680946 31.20948351 16.90359426 21.98425467\n",
            " 30.42761018 24.88433723 19.01952833 22.54658934 10.75643814 20.8135213\n",
            " 17.09806216 21.09123029 20.09959768 19.73728219 16.9347384  26.54797829\n",
            " 17.95333288 16.75755175 28.88268469 19.00474701 11.61641577 13.65832353\n",
            " 11.98183553 28.58658171 16.14613884 16.83037134 17.61188861 14.31837849\n",
            " 24.40803932 22.53657689 23.64276724 15.84502872 24.18897367 14.91462152\n",
            " 24.79305898 27.76557736 17.7148632  18.09614011 16.24124143 16.39185111\n",
            " 27.28208574 26.74547508 20.3270964  17.62110007 19.26811625 14.02999315\n",
            " 19.19869486 21.64819246 11.07087069 21.21076008 17.47829925 21.93560526\n",
            " 14.12254992 17.55993218 17.64662528 26.7169943  20.98796843 17.72351607\n",
            " 23.67130793 15.81090845 18.12351784 25.51028223 20.51560947 21.48505349\n",
            " 18.04066055 17.25291681 23.31820572 14.83780614 22.65511386 21.02011964\n",
            " 22.33914853 17.00740332 17.90097409 25.6211736  25.42794732 15.09605679\n",
            " 26.47955896 25.0101763  22.15766217 23.52752967 19.74612336 18.61908009\n",
            " 12.18616198 22.1141782  18.33232258 16.77137462 19.82571312 23.98181989\n",
            " 23.08548839 24.62216383 18.3761499  16.5970836 ]\n",
            "Mean =  20.202420988702944\n",
            "Std. Deviation =  4.435224240559806\n"
          ]
        }
      ]
    },
    {
      "cell_type": "code",
      "source": [
        "var2 = np.random.randn(100) > 0\n",
        "print(var2)"
      ],
      "metadata": {
        "colab": {
          "base_uri": "https://localhost:8080/"
        },
        "id": "R2vcRAbFK6M3",
        "outputId": "e7f4fc91-b402-4b54-a994-89ed7dc019dd"
      },
      "execution_count": 107,
      "outputs": [
        {
          "output_type": "stream",
          "name": "stdout",
          "text": [
            "[False False False  True  True False  True False  True False  True False\n",
            " False  True  True  True False False False False False False False False\n",
            " False  True False False False False False  True  True  True False  True\n",
            "  True  True False  True  True  True  True False False False False False\n",
            " False False  True False  True  True False False  True  True False  True\n",
            " False False False  True  True  True  True  True False False False False\n",
            "  True  True False  True False False  True  True False False False  True\n",
            "  True  True False False  True False  True False False  True  True False\n",
            "  True False False False]\n"
          ]
        }
      ]
    },
    {
      "cell_type": "code",
      "source": [
        "labels = ['Temp (C)' , 'Ice Creame Eaten']\n",
        "print(labels)"
      ],
      "metadata": {
        "colab": {
          "base_uri": "https://localhost:8080/"
        },
        "id": "HKv0RKuEK-KP",
        "outputId": "7ef22c13-ab59-439e-f46b-00a6ff5f6948"
      },
      "execution_count": 110,
      "outputs": [
        {
          "output_type": "stream",
          "name": "stdout",
          "text": [
            "['Temp (C)', 'Ice Creame Eaten']\n"
          ]
        }
      ]
    },
    {
      "cell_type": "code",
      "source": [
        "# Now create a dictionary that contains this dataset:\n",
        "D = {labels[0]:var1 , labels[1]:var2}\n",
        "print(D)"
      ],
      "metadata": {
        "colab": {
          "base_uri": "https://localhost:8080/"
        },
        "id": "j9HGwzuNMVzC",
        "outputId": "4a1c65a7-f18b-46ec-b803-585da4c613a7"
      },
      "execution_count": 112,
      "outputs": [
        {
          "output_type": "stream",
          "name": "stdout",
          "text": [
            "{'Temp (C)': array([22.56849509, 18.31533027, 15.70911367, 16.70215793, 20.53483649,\n",
            "       24.14266836, 25.66428984, 20.41649419, 26.60680946, 31.20948351,\n",
            "       16.90359426, 21.98425467, 30.42761018, 24.88433723, 19.01952833,\n",
            "       22.54658934, 10.75643814, 20.8135213 , 17.09806216, 21.09123029,\n",
            "       20.09959768, 19.73728219, 16.9347384 , 26.54797829, 17.95333288,\n",
            "       16.75755175, 28.88268469, 19.00474701, 11.61641577, 13.65832353,\n",
            "       11.98183553, 28.58658171, 16.14613884, 16.83037134, 17.61188861,\n",
            "       14.31837849, 24.40803932, 22.53657689, 23.64276724, 15.84502872,\n",
            "       24.18897367, 14.91462152, 24.79305898, 27.76557736, 17.7148632 ,\n",
            "       18.09614011, 16.24124143, 16.39185111, 27.28208574, 26.74547508,\n",
            "       20.3270964 , 17.62110007, 19.26811625, 14.02999315, 19.19869486,\n",
            "       21.64819246, 11.07087069, 21.21076008, 17.47829925, 21.93560526,\n",
            "       14.12254992, 17.55993218, 17.64662528, 26.7169943 , 20.98796843,\n",
            "       17.72351607, 23.67130793, 15.81090845, 18.12351784, 25.51028223,\n",
            "       20.51560947, 21.48505349, 18.04066055, 17.25291681, 23.31820572,\n",
            "       14.83780614, 22.65511386, 21.02011964, 22.33914853, 17.00740332,\n",
            "       17.90097409, 25.6211736 , 25.42794732, 15.09605679, 26.47955896,\n",
            "       25.0101763 , 22.15766217, 23.52752967, 19.74612336, 18.61908009,\n",
            "       12.18616198, 22.1141782 , 18.33232258, 16.77137462, 19.82571312,\n",
            "       23.98181989, 23.08548839, 24.62216383, 18.3761499 , 16.5970836 ]), 'Ice Creame Eaten': array([False, False, False,  True,  True, False,  True, False,  True,\n",
            "       False,  True, False, False,  True,  True,  True, False, False,\n",
            "       False, False, False, False, False, False, False,  True, False,\n",
            "       False, False, False, False,  True,  True,  True, False,  True,\n",
            "        True,  True, False,  True,  True,  True,  True, False, False,\n",
            "       False, False, False, False, False,  True, False,  True,  True,\n",
            "       False, False,  True,  True, False,  True, False, False, False,\n",
            "        True,  True,  True,  True,  True, False, False, False, False,\n",
            "        True,  True, False,  True, False, False,  True,  True, False,\n",
            "       False, False,  True,  True,  True, False, False,  True, False,\n",
            "        True, False, False,  True,  True, False,  True, False, False,\n",
            "       False])}\n"
          ]
        }
      ]
    },
    {
      "cell_type": "code",
      "source": [
        "# Now let's import the dictionary into a pandas dataframe: \n",
        "df = pd.DataFrame(data = D)\n",
        "print(df)"
      ],
      "metadata": {
        "colab": {
          "base_uri": "https://localhost:8080/"
        },
        "id": "NyecdVbFM2-i",
        "outputId": "bd7db20b-f074-4aa9-ea74-ce694d57a36c"
      },
      "execution_count": 115,
      "outputs": [
        {
          "output_type": "stream",
          "name": "stdout",
          "text": [
            "     Temp (C)  Ice Creame Eaten\n",
            "0   22.568495             False\n",
            "1   18.315330             False\n",
            "2   15.709114             False\n",
            "3   16.702158              True\n",
            "4   20.534836              True\n",
            "..        ...               ...\n",
            "95  23.981820             False\n",
            "96  23.085488              True\n",
            "97  24.622164             False\n",
            "98  18.376150             False\n",
            "99  16.597084             False\n",
            "\n",
            "[100 rows x 2 columns]\n"
          ]
        }
      ]
    },
    {
      "cell_type": "code",
      "source": [
        "df.head()"
      ],
      "metadata": {
        "colab": {
          "base_uri": "https://localhost:8080/",
          "height": 204
        },
        "id": "qBkNxFXSNtHG",
        "outputId": "4b4442cb-e8e4-41b6-e789-615c38b63e76"
      },
      "execution_count": 117,
      "outputs": [
        {
          "output_type": "execute_result",
          "data": {
            "text/html": [
              "\n",
              "  <div id=\"df-d11ce573-c7fa-45e8-8629-4d7e72807b43\">\n",
              "    <div class=\"colab-df-container\">\n",
              "      <div>\n",
              "<style scoped>\n",
              "    .dataframe tbody tr th:only-of-type {\n",
              "        vertical-align: middle;\n",
              "    }\n",
              "\n",
              "    .dataframe tbody tr th {\n",
              "        vertical-align: top;\n",
              "    }\n",
              "\n",
              "    .dataframe thead th {\n",
              "        text-align: right;\n",
              "    }\n",
              "</style>\n",
              "<table border=\"1\" class=\"dataframe\">\n",
              "  <thead>\n",
              "    <tr style=\"text-align: right;\">\n",
              "      <th></th>\n",
              "      <th>Temp (C)</th>\n",
              "      <th>Ice Creame Eaten</th>\n",
              "    </tr>\n",
              "  </thead>\n",
              "  <tbody>\n",
              "    <tr>\n",
              "      <th>0</th>\n",
              "      <td>22.568495</td>\n",
              "      <td>False</td>\n",
              "    </tr>\n",
              "    <tr>\n",
              "      <th>1</th>\n",
              "      <td>18.315330</td>\n",
              "      <td>False</td>\n",
              "    </tr>\n",
              "    <tr>\n",
              "      <th>2</th>\n",
              "      <td>15.709114</td>\n",
              "      <td>False</td>\n",
              "    </tr>\n",
              "    <tr>\n",
              "      <th>3</th>\n",
              "      <td>16.702158</td>\n",
              "      <td>True</td>\n",
              "    </tr>\n",
              "    <tr>\n",
              "      <th>4</th>\n",
              "      <td>20.534836</td>\n",
              "      <td>True</td>\n",
              "    </tr>\n",
              "  </tbody>\n",
              "</table>\n",
              "</div>\n",
              "      <button class=\"colab-df-convert\" onclick=\"convertToInteractive('df-d11ce573-c7fa-45e8-8629-4d7e72807b43')\"\n",
              "              title=\"Convert this dataframe to an interactive table.\"\n",
              "              style=\"display:none;\">\n",
              "        \n",
              "  <svg xmlns=\"http://www.w3.org/2000/svg\" height=\"24px\"viewBox=\"0 0 24 24\"\n",
              "       width=\"24px\">\n",
              "    <path d=\"M0 0h24v24H0V0z\" fill=\"none\"/>\n",
              "    <path d=\"M18.56 5.44l.94 2.06.94-2.06 2.06-.94-2.06-.94-.94-2.06-.94 2.06-2.06.94zm-11 1L8.5 8.5l.94-2.06 2.06-.94-2.06-.94L8.5 2.5l-.94 2.06-2.06.94zm10 10l.94 2.06.94-2.06 2.06-.94-2.06-.94-.94-2.06-.94 2.06-2.06.94z\"/><path d=\"M17.41 7.96l-1.37-1.37c-.4-.4-.92-.59-1.43-.59-.52 0-1.04.2-1.43.59L10.3 9.45l-7.72 7.72c-.78.78-.78 2.05 0 2.83L4 21.41c.39.39.9.59 1.41.59.51 0 1.02-.2 1.41-.59l7.78-7.78 2.81-2.81c.8-.78.8-2.07 0-2.86zM5.41 20L4 18.59l7.72-7.72 1.47 1.35L5.41 20z\"/>\n",
              "  </svg>\n",
              "      </button>\n",
              "      \n",
              "  <style>\n",
              "    .colab-df-container {\n",
              "      display:flex;\n",
              "      flex-wrap:wrap;\n",
              "      gap: 12px;\n",
              "    }\n",
              "\n",
              "    .colab-df-convert {\n",
              "      background-color: #E8F0FE;\n",
              "      border: none;\n",
              "      border-radius: 50%;\n",
              "      cursor: pointer;\n",
              "      display: none;\n",
              "      fill: #1967D2;\n",
              "      height: 32px;\n",
              "      padding: 0 0 0 0;\n",
              "      width: 32px;\n",
              "    }\n",
              "\n",
              "    .colab-df-convert:hover {\n",
              "      background-color: #E2EBFA;\n",
              "      box-shadow: 0px 1px 2px rgba(60, 64, 67, 0.3), 0px 1px 3px 1px rgba(60, 64, 67, 0.15);\n",
              "      fill: #174EA6;\n",
              "    }\n",
              "\n",
              "    [theme=dark] .colab-df-convert {\n",
              "      background-color: #3B4455;\n",
              "      fill: #D2E3FC;\n",
              "    }\n",
              "\n",
              "    [theme=dark] .colab-df-convert:hover {\n",
              "      background-color: #434B5C;\n",
              "      box-shadow: 0px 1px 3px 1px rgba(0, 0, 0, 0.15);\n",
              "      filter: drop-shadow(0px 1px 2px rgba(0, 0, 0, 0.3));\n",
              "      fill: #FFFFFF;\n",
              "    }\n",
              "  </style>\n",
              "\n",
              "      <script>\n",
              "        const buttonEl =\n",
              "          document.querySelector('#df-d11ce573-c7fa-45e8-8629-4d7e72807b43 button.colab-df-convert');\n",
              "        buttonEl.style.display =\n",
              "          google.colab.kernel.accessAllowed ? 'block' : 'none';\n",
              "\n",
              "        async function convertToInteractive(key) {\n",
              "          const element = document.querySelector('#df-d11ce573-c7fa-45e8-8629-4d7e72807b43');\n",
              "          const dataTable =\n",
              "            await google.colab.kernel.invokeFunction('convertToInteractive',\n",
              "                                                     [key], {});\n",
              "          if (!dataTable) return;\n",
              "\n",
              "          const docLinkHtml = 'Like what you see? Visit the ' +\n",
              "            '<a target=\"_blank\" href=https://colab.research.google.com/notebooks/data_table.ipynb>data table notebook</a>'\n",
              "            + ' to learn more about interactive tables.';\n",
              "          element.innerHTML = '';\n",
              "          dataTable['output_type'] = 'display_data';\n",
              "          await google.colab.output.renderOutput(dataTable, element);\n",
              "          const docLink = document.createElement('div');\n",
              "          docLink.innerHTML = docLinkHtml;\n",
              "          element.appendChild(docLink);\n",
              "        }\n",
              "      </script>\n",
              "    </div>\n",
              "  </div>\n",
              "  "
            ],
            "text/plain": [
              "    Temp (C)  Ice Creame Eaten\n",
              "0  22.568495             False\n",
              "1  18.315330             False\n",
              "2  15.709114             False\n",
              "3  16.702158              True\n",
              "4  20.534836              True"
            ]
          },
          "metadata": {},
          "execution_count": 117
        }
      ]
    },
    {
      "cell_type": "code",
      "source": [
        "df.count()"
      ],
      "metadata": {
        "colab": {
          "base_uri": "https://localhost:8080/"
        },
        "id": "fHvl5ptjOFdt",
        "outputId": "1e027391-a5ca-4441-e79c-268d6b39a0cd"
      },
      "execution_count": 118,
      "outputs": [
        {
          "output_type": "execute_result",
          "data": {
            "text/plain": [
              "Temp (C)            100\n",
              "Ice Creame Eaten    100\n",
              "dtype: int64"
            ]
          },
          "metadata": {},
          "execution_count": 118
        }
      ]
    },
    {
      "cell_type": "code",
      "source": [
        "df.mean()"
      ],
      "metadata": {
        "colab": {
          "base_uri": "https://localhost:8080/"
        },
        "id": "AguU2pPYONiF",
        "outputId": "511e7dd0-d367-4c1c-c5c4-e6d04366f1a1"
      },
      "execution_count": 119,
      "outputs": [
        {
          "output_type": "execute_result",
          "data": {
            "text/plain": [
              "Temp (C)            20.202421\n",
              "Ice Creame Eaten     0.430000\n",
              "dtype: float64"
            ]
          },
          "metadata": {},
          "execution_count": 119
        }
      ]
    },
    {
      "cell_type": "code",
      "source": [
        "var1 = np.array(list(range(0 , 10)))\n",
        "var1"
      ],
      "metadata": {
        "colab": {
          "base_uri": "https://localhost:8080/"
        },
        "id": "bLUdxY93OURy",
        "outputId": "0e9f9a30-0bc8-44d3-d0b7-b1266f50e626"
      },
      "execution_count": 122,
      "outputs": [
        {
          "output_type": "execute_result",
          "data": {
            "text/plain": [
              "array([0, 1, 2, 3, 4, 5, 6, 7, 8, 9])"
            ]
          },
          "metadata": {},
          "execution_count": 122
        }
      ]
    },
    {
      "cell_type": "code",
      "source": [
        "var2 = np.square(var1)\n",
        "var2"
      ],
      "metadata": {
        "colab": {
          "base_uri": "https://localhost:8080/"
        },
        "id": "115eQzTtPOf3",
        "outputId": "0891b90f-328b-4271-f3be-1eae31fe88d4"
      },
      "execution_count": 127,
      "outputs": [
        {
          "output_type": "execute_result",
          "data": {
            "text/plain": [
              "array([ 0,  1,  4,  9, 16, 25, 36, 49, 64, 81])"
            ]
          },
          "metadata": {},
          "execution_count": 127
        }
      ]
    },
    {
      "cell_type": "code",
      "source": [
        "var3 = np.log(var2)\n",
        "var3"
      ],
      "metadata": {
        "colab": {
          "base_uri": "https://localhost:8080/"
        },
        "id": "AC0NzAL5PqL4",
        "outputId": "0aa40e9f-d7e8-4df8-ee2e-a2e5dc79ae48"
      },
      "execution_count": 130,
      "outputs": [
        {
          "output_type": "stream",
          "name": "stderr",
          "text": [
            "/usr/local/lib/python3.7/dist-packages/ipykernel_launcher.py:1: RuntimeWarning: divide by zero encountered in log\n",
            "  \"\"\"Entry point for launching an IPython kernel.\n"
          ]
        },
        {
          "output_type": "execute_result",
          "data": {
            "text/plain": [
              "array([      -inf, 0.        , 1.38629436, 2.19722458, 2.77258872,\n",
              "       3.21887582, 3.58351894, 3.8918203 , 4.15888308, 4.39444915])"
            ]
          },
          "metadata": {},
          "execution_count": 130
        }
      ]
    },
    {
      "cell_type": "code",
      "source": [
        "D = {'var1' : var1 , 'var2':var2 , 'var3':var3}\n",
        "D"
      ],
      "metadata": {
        "colab": {
          "base_uri": "https://localhost:8080/"
        },
        "id": "U1K0x3t1PwnS",
        "outputId": "d5905d18-c2ef-4411-80fe-5fcc2d17c6c4"
      },
      "execution_count": 131,
      "outputs": [
        {
          "output_type": "execute_result",
          "data": {
            "text/plain": [
              "{'var1': array([0, 1, 2, 3, 4, 5, 6, 7, 8, 9]),\n",
              " 'var2': array([ 0,  1,  4,  9, 16, 25, 36, 49, 64, 81]),\n",
              " 'var3': array([      -inf, 0.        , 1.38629436, 2.19722458, 2.77258872,\n",
              "        3.21887582, 3.58351894, 3.8918203 , 4.15888308, 4.39444915])}"
            ]
          },
          "metadata": {},
          "execution_count": 131
        }
      ]
    },
    {
      "cell_type": "code",
      "source": [
        "df = pd.DataFrame(data = D)\n",
        "print(df)\n",
        "df.head()"
      ],
      "metadata": {
        "colab": {
          "base_uri": "https://localhost:8080/",
          "height": 391
        },
        "id": "fzo9XnYOQGZh",
        "outputId": "2ee3c520-96db-4ef8-99ad-9e2d341f4e28"
      },
      "execution_count": 135,
      "outputs": [
        {
          "output_type": "stream",
          "name": "stdout",
          "text": [
            "   var1  var2      var3\n",
            "0     0     0      -inf\n",
            "1     1     1  0.000000\n",
            "2     2     4  1.386294\n",
            "3     3     9  2.197225\n",
            "4     4    16  2.772589\n",
            "5     5    25  3.218876\n",
            "6     6    36  3.583519\n",
            "7     7    49  3.891820\n",
            "8     8    64  4.158883\n",
            "9     9    81  4.394449\n"
          ]
        },
        {
          "output_type": "execute_result",
          "data": {
            "text/html": [
              "\n",
              "  <div id=\"df-d4e45c8c-d4c2-4f5b-89dd-16c3e8a5b8eb\">\n",
              "    <div class=\"colab-df-container\">\n",
              "      <div>\n",
              "<style scoped>\n",
              "    .dataframe tbody tr th:only-of-type {\n",
              "        vertical-align: middle;\n",
              "    }\n",
              "\n",
              "    .dataframe tbody tr th {\n",
              "        vertical-align: top;\n",
              "    }\n",
              "\n",
              "    .dataframe thead th {\n",
              "        text-align: right;\n",
              "    }\n",
              "</style>\n",
              "<table border=\"1\" class=\"dataframe\">\n",
              "  <thead>\n",
              "    <tr style=\"text-align: right;\">\n",
              "      <th></th>\n",
              "      <th>var1</th>\n",
              "      <th>var2</th>\n",
              "      <th>var3</th>\n",
              "    </tr>\n",
              "  </thead>\n",
              "  <tbody>\n",
              "    <tr>\n",
              "      <th>0</th>\n",
              "      <td>0</td>\n",
              "      <td>0</td>\n",
              "      <td>-inf</td>\n",
              "    </tr>\n",
              "    <tr>\n",
              "      <th>1</th>\n",
              "      <td>1</td>\n",
              "      <td>1</td>\n",
              "      <td>0.000000</td>\n",
              "    </tr>\n",
              "    <tr>\n",
              "      <th>2</th>\n",
              "      <td>2</td>\n",
              "      <td>4</td>\n",
              "      <td>1.386294</td>\n",
              "    </tr>\n",
              "    <tr>\n",
              "      <th>3</th>\n",
              "      <td>3</td>\n",
              "      <td>9</td>\n",
              "      <td>2.197225</td>\n",
              "    </tr>\n",
              "    <tr>\n",
              "      <th>4</th>\n",
              "      <td>4</td>\n",
              "      <td>16</td>\n",
              "      <td>2.772589</td>\n",
              "    </tr>\n",
              "  </tbody>\n",
              "</table>\n",
              "</div>\n",
              "      <button class=\"colab-df-convert\" onclick=\"convertToInteractive('df-d4e45c8c-d4c2-4f5b-89dd-16c3e8a5b8eb')\"\n",
              "              title=\"Convert this dataframe to an interactive table.\"\n",
              "              style=\"display:none;\">\n",
              "        \n",
              "  <svg xmlns=\"http://www.w3.org/2000/svg\" height=\"24px\"viewBox=\"0 0 24 24\"\n",
              "       width=\"24px\">\n",
              "    <path d=\"M0 0h24v24H0V0z\" fill=\"none\"/>\n",
              "    <path d=\"M18.56 5.44l.94 2.06.94-2.06 2.06-.94-2.06-.94-.94-2.06-.94 2.06-2.06.94zm-11 1L8.5 8.5l.94-2.06 2.06-.94-2.06-.94L8.5 2.5l-.94 2.06-2.06.94zm10 10l.94 2.06.94-2.06 2.06-.94-2.06-.94-.94-2.06-.94 2.06-2.06.94z\"/><path d=\"M17.41 7.96l-1.37-1.37c-.4-.4-.92-.59-1.43-.59-.52 0-1.04.2-1.43.59L10.3 9.45l-7.72 7.72c-.78.78-.78 2.05 0 2.83L4 21.41c.39.39.9.59 1.41.59.51 0 1.02-.2 1.41-.59l7.78-7.78 2.81-2.81c.8-.78.8-2.07 0-2.86zM5.41 20L4 18.59l7.72-7.72 1.47 1.35L5.41 20z\"/>\n",
              "  </svg>\n",
              "      </button>\n",
              "      \n",
              "  <style>\n",
              "    .colab-df-container {\n",
              "      display:flex;\n",
              "      flex-wrap:wrap;\n",
              "      gap: 12px;\n",
              "    }\n",
              "\n",
              "    .colab-df-convert {\n",
              "      background-color: #E8F0FE;\n",
              "      border: none;\n",
              "      border-radius: 50%;\n",
              "      cursor: pointer;\n",
              "      display: none;\n",
              "      fill: #1967D2;\n",
              "      height: 32px;\n",
              "      padding: 0 0 0 0;\n",
              "      width: 32px;\n",
              "    }\n",
              "\n",
              "    .colab-df-convert:hover {\n",
              "      background-color: #E2EBFA;\n",
              "      box-shadow: 0px 1px 2px rgba(60, 64, 67, 0.3), 0px 1px 3px 1px rgba(60, 64, 67, 0.15);\n",
              "      fill: #174EA6;\n",
              "    }\n",
              "\n",
              "    [theme=dark] .colab-df-convert {\n",
              "      background-color: #3B4455;\n",
              "      fill: #D2E3FC;\n",
              "    }\n",
              "\n",
              "    [theme=dark] .colab-df-convert:hover {\n",
              "      background-color: #434B5C;\n",
              "      box-shadow: 0px 1px 3px 1px rgba(0, 0, 0, 0.15);\n",
              "      filter: drop-shadow(0px 1px 2px rgba(0, 0, 0, 0.3));\n",
              "      fill: #FFFFFF;\n",
              "    }\n",
              "  </style>\n",
              "\n",
              "      <script>\n",
              "        const buttonEl =\n",
              "          document.querySelector('#df-d4e45c8c-d4c2-4f5b-89dd-16c3e8a5b8eb button.colab-df-convert');\n",
              "        buttonEl.style.display =\n",
              "          google.colab.kernel.accessAllowed ? 'block' : 'none';\n",
              "\n",
              "        async function convertToInteractive(key) {\n",
              "          const element = document.querySelector('#df-d4e45c8c-d4c2-4f5b-89dd-16c3e8a5b8eb');\n",
              "          const dataTable =\n",
              "            await google.colab.kernel.invokeFunction('convertToInteractive',\n",
              "                                                     [key], {});\n",
              "          if (!dataTable) return;\n",
              "\n",
              "          const docLinkHtml = 'Like what you see? Visit the ' +\n",
              "            '<a target=\"_blank\" href=https://colab.research.google.com/notebooks/data_table.ipynb>data table notebook</a>'\n",
              "            + ' to learn more about interactive tables.';\n",
              "          element.innerHTML = '';\n",
              "          dataTable['output_type'] = 'display_data';\n",
              "          await google.colab.output.renderOutput(dataTable, element);\n",
              "          const docLink = document.createElement('div');\n",
              "          docLink.innerHTML = docLinkHtml;\n",
              "          element.appendChild(docLink);\n",
              "        }\n",
              "      </script>\n",
              "    </div>\n",
              "  </div>\n",
              "  "
            ],
            "text/plain": [
              "   var1  var2      var3\n",
              "0     0     0      -inf\n",
              "1     1     1  0.000000\n",
              "2     2     4  1.386294\n",
              "3     3     9  2.197225\n",
              "4     4    16  2.772589"
            ]
          },
          "metadata": {},
          "execution_count": 135
        }
      ]
    },
    {
      "cell_type": "code",
      "source": [
        ""
      ],
      "metadata": {
        "id": "fAM1mHAPQq3L"
      },
      "execution_count": null,
      "outputs": []
    }
  ]
}